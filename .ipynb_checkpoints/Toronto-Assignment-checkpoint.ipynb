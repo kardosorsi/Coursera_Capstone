{
 "cells": [
  {
   "cell_type": "code",
   "execution_count": 1,
   "metadata": {},
   "outputs": [
    {
     "name": "stdout",
     "output_type": "stream",
     "text": [
      "Collecting package metadata (current_repodata.json): done\n",
      "Solving environment: done\n",
      "\n",
      "\n",
      "==> WARNING: A newer version of conda exists. <==\n",
      "  current version: 4.7.12\n",
      "  latest version: 4.8.3\n",
      "\n",
      "Please update conda by running\n",
      "\n",
      "    $ conda update -n base -c defaults conda\n",
      "\n",
      "\n",
      "\n",
      "## Package Plan ##\n",
      "\n",
      "  environment location: /Applications/anaconda3\n",
      "\n",
      "  added / updated specs:\n",
      "    - geopy\n",
      "\n",
      "\n",
      "The following packages will be downloaded:\n",
      "\n",
      "    package                    |            build\n",
      "    ---------------------------|-----------------\n",
      "    conda-4.8.3                |   py37hc8dfbb8_1         3.0 MB  conda-forge\n",
      "    geographiclib-1.50         |             py_0          34 KB  conda-forge\n",
      "    geopy-1.21.0               |             py_0          58 KB  conda-forge\n",
      "    python_abi-3.7             |          1_cp37m           4 KB  conda-forge\n",
      "    ------------------------------------------------------------\n",
      "                                           Total:         3.1 MB\n",
      "\n",
      "The following NEW packages will be INSTALLED:\n",
      "\n",
      "  geographiclib      conda-forge/noarch::geographiclib-1.50-py_0\n",
      "  geopy              conda-forge/noarch::geopy-1.21.0-py_0\n",
      "  python_abi         conda-forge/osx-64::python_abi-3.7-1_cp37m\n",
      "\n",
      "The following packages will be UPDATED:\n",
      "\n",
      "  conda                      pkgs/main::conda-4.7.12-py37_0 --> conda-forge::conda-4.8.3-py37hc8dfbb8_1\n",
      "\n",
      "\n",
      "\n",
      "Downloading and Extracting Packages\n",
      "geographiclib-1.50   | 34 KB     | ##################################### | 100% \n",
      "geopy-1.21.0         | 58 KB     | ##################################### | 100% \n",
      "conda-4.8.3          | 3.0 MB    | ##################################### | 100% \n",
      "python_abi-3.7       | 4 KB      | ##################################### | 100% \n",
      "Preparing transaction: done\n",
      "Verifying transaction: done\n",
      "Executing transaction: done\n",
      "Collecting package metadata (current_repodata.json): done\n",
      "Solving environment: failed with initial frozen solve. Retrying with flexible solve.\n",
      "Collecting package metadata (repodata.json): done\n",
      "Solving environment: done\n",
      "\n",
      "## Package Plan ##\n",
      "\n",
      "  environment location: /Applications/anaconda3\n",
      "\n",
      "  added / updated specs:\n",
      "    - folium=0.5.0\n",
      "\n",
      "\n",
      "The following packages will be downloaded:\n",
      "\n",
      "    package                    |            build\n",
      "    ---------------------------|-----------------\n",
      "    altair-4.0.1               |             py_0         575 KB  conda-forge\n",
      "    branca-0.4.0               |             py_0          26 KB  conda-forge\n",
      "    certifi-2019.9.11          |           py37_0         147 KB  conda-forge\n",
      "    folium-0.5.0               |             py_0          45 KB  conda-forge\n",
      "    vincent-0.4.4              |             py_1          28 KB  conda-forge\n",
      "    ------------------------------------------------------------\n",
      "                                           Total:         820 KB\n",
      "\n",
      "The following NEW packages will be INSTALLED:\n",
      "\n",
      "  altair             conda-forge/noarch::altair-4.0.1-py_0\n",
      "  branca             conda-forge/noarch::branca-0.4.0-py_0\n",
      "  folium             conda-forge/noarch::folium-0.5.0-py_0\n",
      "  vincent            conda-forge/noarch::vincent-0.4.4-py_1\n",
      "\n",
      "The following packages will be SUPERSEDED by a higher-priority channel:\n",
      "\n",
      "  certifi                                         pkgs/main --> conda-forge\n",
      "\n",
      "\n",
      "\n",
      "Downloading and Extracting Packages\n",
      "branca-0.4.0         | 26 KB     | ##################################### | 100% \n",
      "altair-4.0.1         | 575 KB    | ##################################### | 100% \n",
      "folium-0.5.0         | 45 KB     | ##################################### | 100% \n",
      "vincent-0.4.4        | 28 KB     | ##################################### | 100% \n",
      "certifi-2019.9.11    | 147 KB    | ##################################### | 100% \n",
      "Preparing transaction: done\n",
      "Verifying transaction: done\n",
      "Executing transaction: done\n",
      "Libraries imported.\n"
     ]
    }
   ],
   "source": [
    "import numpy as np\n",
    "import pandas as pd\n",
    "pd.set_option('display.max_columns', None)\n",
    "pd.set_option('display.max_rows', None)\n",
    "\n",
    "import json\n",
    "\n",
    "!conda install -c conda-forge geopy --yes\n",
    "from geopy.geocoders import Nominatim\n",
    "\n",
    "import requests\n",
    "from pandas.io.json import json_normalize\n",
    "\n",
    "import matplotlib.cm as cm\n",
    "import matplotlib.colors as colors\n",
    "\n",
    "from sklearn.cluster import KMeans\n",
    "\n",
    "!conda install -c conda-forge folium=0.5.0 --yes\n",
    "import folium\n",
    "\n",
    "print('Libraries imported.')"
   ]
  },
  {
   "cell_type": "code",
   "execution_count": 2,
   "metadata": {},
   "outputs": [],
   "source": [
    "# define the dataframe columns\n",
    "column_names = ['PostalCode', 'Borough', 'Neighborhood'] \n",
    "\n",
    "# instantiate the dataframe\n",
    "postalcodes = pd.DataFrame(columns=column_names)"
   ]
  },
  {
   "cell_type": "code",
   "execution_count": 3,
   "metadata": {},
   "outputs": [
    {
     "data": {
      "text/html": [
       "<div>\n",
       "<style scoped>\n",
       "    .dataframe tbody tr th:only-of-type {\n",
       "        vertical-align: middle;\n",
       "    }\n",
       "\n",
       "    .dataframe tbody tr th {\n",
       "        vertical-align: top;\n",
       "    }\n",
       "\n",
       "    .dataframe thead th {\n",
       "        text-align: right;\n",
       "    }\n",
       "</style>\n",
       "<table border=\"1\" class=\"dataframe\">\n",
       "  <thead>\n",
       "    <tr style=\"text-align: right;\">\n",
       "      <th></th>\n",
       "      <th>PostalCode</th>\n",
       "      <th>Borough</th>\n",
       "      <th>Neighborhood</th>\n",
       "    </tr>\n",
       "  </thead>\n",
       "  <tbody>\n",
       "  </tbody>\n",
       "</table>\n",
       "</div>"
      ],
      "text/plain": [
       "Empty DataFrame\n",
       "Columns: [PostalCode, Borough, Neighborhood]\n",
       "Index: []"
      ]
     },
     "execution_count": 3,
     "metadata": {},
     "output_type": "execute_result"
    }
   ],
   "source": [
    "postalcodes"
   ]
  },
  {
   "cell_type": "code",
   "execution_count": 5,
   "metadata": {},
   "outputs": [],
   "source": [
    "from bs4 import BeautifulSoup"
   ]
  },
  {
   "cell_type": "code",
   "execution_count": 8,
   "metadata": {},
   "outputs": [],
   "source": [
    "url = \"https://en.wikipedia.org/wiki/List_of_postal_codes_of_Canada:_M\""
   ]
  },
  {
   "cell_type": "code",
   "execution_count": 9,
   "metadata": {},
   "outputs": [],
   "source": [
    "# Set headers\n",
    "headers = requests.utils.default_headers()\n",
    "headers.update({ 'User-Agent': 'Mozilla/5.0 (X11; Ubuntu; Linux x86_64; rv:52.0) Gecko/20100101 Firefox/52.0'})"
   ]
  },
  {
   "cell_type": "code",
   "execution_count": 10,
   "metadata": {},
   "outputs": [],
   "source": [
    "req = requests.get(url, headers)"
   ]
  },
  {
   "cell_type": "code",
   "execution_count": 11,
   "metadata": {},
   "outputs": [],
   "source": [
    "soup = BeautifulSoup(req.content, 'html.parser')"
   ]
  },
  {
   "cell_type": "code",
   "execution_count": 13,
   "metadata": {},
   "outputs": [],
   "source": [
    "# print(soup.prettify())"
   ]
  },
  {
   "cell_type": "code",
   "execution_count": 33,
   "metadata": {},
   "outputs": [],
   "source": [
    "codes = soup.select(\"td p b\")"
   ]
  },
  {
   "cell_type": "code",
   "execution_count": 40,
   "metadata": {},
   "outputs": [
    {
     "data": {
      "text/plain": [
       "180"
      ]
     },
     "execution_count": 40,
     "metadata": {},
     "output_type": "execute_result"
    }
   ],
   "source": [
    "len(codes)"
   ]
  },
  {
   "cell_type": "code",
   "execution_count": 41,
   "metadata": {},
   "outputs": [],
   "source": [
    "bn = soup.select(\"td p span\")"
   ]
  },
  {
   "cell_type": "code",
   "execution_count": 42,
   "metadata": {},
   "outputs": [
    {
     "data": {
      "text/plain": [
       "180"
      ]
     },
     "execution_count": 42,
     "metadata": {},
     "output_type": "execute_result"
    }
   ],
   "source": [
    "len(bn)"
   ]
  },
  {
   "cell_type": "code",
   "execution_count": 58,
   "metadata": {},
   "outputs": [
    {
     "name": "stdout",
     "output_type": "stream",
     "text": [
      "hihi\n"
     ]
    }
   ],
   "source": [
    "if not bn[2].find('i'):\n",
    "    print('hihi')"
   ]
  },
  {
   "cell_type": "code",
   "execution_count": 51,
   "metadata": {},
   "outputs": [
    {
     "data": {
      "text/plain": [
       "'Not assigned'"
      ]
     },
     "execution_count": 51,
     "metadata": {},
     "output_type": "execute_result"
    }
   ],
   "source": [
    "bn[0].find('i').get_text()"
   ]
  },
  {
   "cell_type": "code",
   "execution_count": 74,
   "metadata": {},
   "outputs": [
    {
     "data": {
      "text/plain": [
       "<span style=\"font-size:80%;\"><a href=\"/wiki/North_York\" title=\"North York\">North York</a><br/>(<a href=\"/wiki/Parkwoods\" title=\"Parkwoods\">Parkwoods</a>)</span>"
      ]
     },
     "execution_count": 74,
     "metadata": {},
     "output_type": "execute_result"
    }
   ],
   "source": [
    "bn[2]"
   ]
  },
  {
   "cell_type": "code",
   "execution_count": 73,
   "metadata": {},
   "outputs": [
    {
     "data": {
      "text/plain": [
       "'North York(Parkwoods)'"
      ]
     },
     "execution_count": 73,
     "metadata": {},
     "output_type": "execute_result"
    }
   ],
   "source": [
    "bn[2].get_text()"
   ]
  },
  {
   "cell_type": "code",
   "execution_count": 71,
   "metadata": {},
   "outputs": [
    {
     "data": {
      "text/plain": [
       "'North York'"
      ]
     },
     "execution_count": 71,
     "metadata": {},
     "output_type": "execute_result"
    }
   ],
   "source": [
    "bn[2].find('a').get_text()"
   ]
  },
  {
   "cell_type": "code",
   "execution_count": 86,
   "metadata": {},
   "outputs": [
    {
     "name": "stdout",
     "output_type": "stream",
     "text": [
      "North York ( Parkwoods )\n"
     ]
    }
   ],
   "source": [
    "print(bn[2].get_text(separator=\" \").strip())"
   ]
  },
  {
   "cell_type": "code",
   "execution_count": 97,
   "metadata": {},
   "outputs": [
    {
     "name": "stdout",
     "output_type": "stream",
     "text": [
      " Parkwoods\n",
      " Victoria Village\n",
      " Regent Park  /  Harbourfront\n",
      " Lawrence Manor  /  Lawrence Heights\n",
      "  Ontario Provincial Government\n",
      " Islington Avenue\n",
      " Malvern  /  Rouge\n",
      " Don Mills North\n",
      " Parkview Hill  /  Woodbine Gardens\n",
      " Garden District ,  Ryerson\n",
      "Glencairn)\n",
      " West Deane Park  /  Princess Gardens  /  Martin Grove  /  Islington  / Cloverdale)\n",
      " Rouge Hill  /  Port Union  /  Highland Creek\n",
      " Don Mills South \n",
      " Woodbine Heights\n",
      " St. James Town\n",
      " Humewood-Cedarvale\n",
      "Eringate / Bloordale Gardens / Old Burnhamthorpe /  Markland Wood\n",
      " Guildwood  /  Morningside  /  West Hill\n",
      " The Beaches\n",
      "Berczy Park)\n",
      " Caledonia-Fairbanks\n",
      " Woburn\n",
      " Leaside\n",
      "Central  Bay Street\n",
      "Christie)\n",
      " Cedarbrae\n",
      " Hillcrest Village\n",
      " Bathurst Manor  /  Wilson Heights  /  Downsview  North)\n",
      " Thorncliffe Park\n",
      " Richmond  / Adelaide /  King\n",
      " Dufferin  /  Dovercourt Village\n",
      " Scarborough Village\n",
      "Fairview /  Henry Farm  / Oriole)\n",
      " Northwood Park  /  York University\n",
      " The Danforth    East)\n",
      " Harbourfront  East /  Union Station  /  Toronto Islands\n",
      " Little Portugal  /  Trinity\n",
      " Kennedy Park  /  Ionview  / East  Birchmount Park\n",
      " Bayview Village\n",
      " Downsview East   \n",
      " The Danforth  West /  Riverdale\n",
      " Toronto Dominion Centre  /  Design Exchange\n",
      " Brockton  /  Parkdale Village  /  Exhibition Place\n",
      " Golden Mile  /  Clairlea  /  Oakridge\n",
      " York Mills  / Silver Hills)\n",
      " Downsview West\n",
      " India Bazaar  /  The Beaches  West)\n",
      " Commerce Court  /  Victoria Hotel\n",
      "North Park /  Maple Leaf Park  / Upwood Park)\n",
      " Humber Summit\n",
      " Cliffside  /  Cliffcrest  /  Scarborough Village  West)\n",
      "Willowdale /  Newtonbrook\n",
      " Downsview Central\n",
      "Studio District)\n",
      " Bedford Park  /  Lawrence Manor  East)\n",
      "Del Ray /  Mount Dennis  /  Keelsdale and Silverthorn\n",
      " Humberlea  /  Emery\n",
      " Birch Cliff  /  Cliffside  West)\n",
      " Willowdale South\n",
      " Downsview Northwest\n",
      " Lawrence Park\n",
      "Roselawn)\n",
      " Runnymede  /  The Junction  North)\n",
      " Weston\n",
      " Dorset Park  /  Wexford Heights  /  Scarborough Town Centre\n",
      " York Mills  West)\n",
      " Davisville  North)\n",
      " Forest Hill  North & West)\n",
      " High Park  /  The Junction  South)\n",
      "Westmount)\n",
      " Wexford  /  Maryvale\n",
      " Willowdale West\n",
      " North Toronto  West)\n",
      " The Annex  /  North Midtown  /  Yorkville\n",
      " Parkdale  /  Roncesvalles\n",
      "Enclave of L4W)\n",
      " Kingsview Village  / St. Phillips / Martin Grove Gardens / Richview Gardens)\n",
      " Agincourt\n",
      " Davisville\n",
      " University of Toronto  / Harbord)\n",
      " Runnymede  /  Swansea\n",
      "Clarks Corners /  Tam O'Shanter  /  Sullivan\n",
      " Moore Park  /  Summerhill  East)\n",
      " Kensington Market  /  Chinatown  /  Grange Park\n",
      " Milliken  /  Agincourt North  /  Steeles  East /  L'Amoreaux  East)\n",
      " Summerhill  West /  Rathnelly  /  South Hill  /  Forest Hill  SE /  Deer Park\n",
      " CN Tower  /  King and Spadina  /  Railway Lands  /  Harbourfront  West / Bathurst Quay /  South Niagara  /  Island airport\n",
      " New Toronto  /  Mimico  South / Humber Bay Shores)\n",
      " South Steeles  /  Silverstone  / Humbergate /  Jamestown  /  Mount Olive  /  Beaumond Heights  /  Thistletown  / Albion Gardens)\n",
      " Steeles  West /  L'Amoreaux  West)\n",
      " Rosedale\n",
      "Enclave of M5E)\n",
      " Alderwood  /  Long Branch\n",
      " Clairville  /  Humberwood  /  Woodbine Downs  / West Humber / Kipling Heights /  Rexdale  /  Elms  / Tandridge / Old Rexdale)\n",
      " Upper Rouge\n",
      " St. James Town  /  Cabbagetown\n",
      " First Canadian Place  /  Underground city\n",
      " The Kingsway  / Montgomery Road /  Old Mill  North)\n",
      " Church and Wellesley\n",
      "Enclave of M4L)\n",
      " Old Mill  South / King's Mill Park /  Sunnylea  /  Humber Bay  /  Mimico  NE /  The Queensway  East / Royal York South East / Kingsway Park South East)\n",
      " Mimico  NW /  The Queensway  West / South of Bloor / Kingsway Park South West / Royal York South West)\n"
     ]
    }
   ],
   "source": [
    "for index, code in enumerate(codes):\n",
    "    if not bn[index].find('i'):\n",
    "        code = code.get_text()\n",
    "        borough_and_neighborhood = bn[index].get_text(separator=\" \").strip().split('(')\n",
    "        borough = borough_and_neighborhood[0].split('/')\n",
    "        \n",
    "        if len(borough) > 1:\n",
    "            neighborhood = borough[1]\n",
    "        else:\n",
    "            neighborhood = borough_and_neighborhood[1].replace(' )', '').replace(' /', ',')\n",
    "        \n",
    "        borough = borough[0]\n",
    "        \n",
    "        print(neighborhood)"
   ]
  },
  {
   "cell_type": "code",
   "execution_count": null,
   "metadata": {},
   "outputs": [],
   "source": []
  }
 ],
 "metadata": {
  "kernelspec": {
   "display_name": "Python 3",
   "language": "python",
   "name": "python3"
  },
  "language_info": {
   "codemirror_mode": {
    "name": "ipython",
    "version": 3
   },
   "file_extension": ".py",
   "mimetype": "text/x-python",
   "name": "python",
   "nbconvert_exporter": "python",
   "pygments_lexer": "ipython3",
   "version": "3.7.4"
  }
 },
 "nbformat": 4,
 "nbformat_minor": 4
}
